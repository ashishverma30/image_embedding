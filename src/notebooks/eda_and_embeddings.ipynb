{
 "cells": [
  {
   "cell_type": "code",
   "execution_count": 56,
   "metadata": {},
   "outputs": [],
   "source": [
    "import torch\n",
    "import torch.nn as nn\n",
    "from torch.utils.data import DataLoader\n",
    "import pandas as pd\n",
    "from PIL import Image\n",
    "import numpy as np\n",
    "import io\n",
    "from pyspark.sql import SparkSession\n",
    "from torchvision import datasets, transforms, models\n",
    "from torchvision.utils import  make_grid\n",
    "\n",
    "import os\n",
    "from pyspark.sql.functions import isnan, when, count, col,create_map, lit\n",
    "# from pyspark.sql.functions import col, create_map, lit\n",
    "from itertools import chain\n",
    "\n",
    "import warnings\n",
    "warnings.filterwarnings(\"ignore\")\n",
    "import matplotlib.pyplot as plt\n",
    "%matplotlib inline"
   ]
  },
  {
   "cell_type": "code",
   "execution_count": 57,
   "metadata": {},
   "outputs": [],
   "source": [
    "spark = SparkSession.builder.getOrCreate()"
   ]
  },
  {
   "cell_type": "code",
   "execution_count": 58,
   "metadata": {},
   "outputs": [],
   "source": [
    "root_path = os.getcwd()\n",
    "style_csv = root_path +  \"/data/archive/styles.csv\"\n",
    "image_path = root_path + \"/data/archive/less_images/\"\n",
    "df=spark.read.csv(style_csv,header=True)"
   ]
  },
  {
   "cell_type": "code",
   "execution_count": 59,
   "metadata": {},
   "outputs": [
    {
     "name": "stdout",
     "output_type": "stream",
     "text": [
      "+-----+------+--------------+-----------+------------+----------+------+----+------+--------------------+\n",
      "|   id|gender|masterCategory|subCategory| articleType|baseColour|season|year| usage|  productDisplayName|\n",
      "+-----+------+--------------+-----------+------------+----------+------+----+------+--------------------+\n",
      "|15970|   Men|       Apparel|    Topwear|      Shirts| Navy Blue|  Fall|2011|Casual|Turtle Check Men ...|\n",
      "|39386|   Men|       Apparel| Bottomwear|       Jeans|      Blue|Summer|2012|Casual|Peter England Men...|\n",
      "|59263| Women|   Accessories|    Watches|     Watches|    Silver|Winter|2016|Casual|Titan Women Silve...|\n",
      "|21379|   Men|       Apparel| Bottomwear| Track Pants|     Black|  Fall|2011|Casual|Manchester United...|\n",
      "|53759|   Men|       Apparel|    Topwear|     Tshirts|      Grey|Summer|2012|Casual|Puma Men Grey T-s...|\n",
      "| 1855|   Men|       Apparel|    Topwear|     Tshirts|      Grey|Summer|2011|Casual|Inkfruit Mens Cha...|\n",
      "|30805|   Men|       Apparel|    Topwear|      Shirts|     Green|Summer|2012|Ethnic|Fabindia Men Stri...|\n",
      "|26960| Women|       Apparel|    Topwear|      Shirts|    Purple|Summer|2012|Casual|Jealous 21 Women ...|\n",
      "|29114|   Men|   Accessories|      Socks|       Socks| Navy Blue|Summer|2012|Casual|Puma Men Pack of ...|\n",
      "|30039|   Men|   Accessories|    Watches|     Watches|     Black|Winter|2016|Casual|Skagen Men Black ...|\n",
      "| 9204|   Men|      Footwear|      Shoes|Casual Shoes|     Black|Summer|2011|Casual|Puma Men Future C...|\n",
      "|48123| Women|   Accessories|      Belts|       Belts|     Black|Summer|2012|Casual|Fossil Women Blac...|\n",
      "|18653|   Men|      Footwear| Flip Flops|  Flip Flops|     Black|  Fall|2011|Casual|Fila Men Cush Fle...|\n",
      "|47957| Women|   Accessories|       Bags|    Handbags|      Blue|Summer|2012|Casual|Murcia Women Blue...|\n",
      "|46885|  Boys|      Footwear| Flip Flops|  Flip Flops| Navy Blue|  Fall|2012|Casual|Ben 10 Boys Navy ...|\n",
      "|12369|   Men|       Apparel|    Topwear|      Shirts|    Purple|  Fall|2011|Formal|Reid & Taylor Men...|\n",
      "|29928|   Men|   Accessories|    Watches|     Watches|     Black|Winter|2016|Casual|Police Men Black ...|\n",
      "|42419| Girls|       Apparel|    Topwear|        Tops|     White|Summer|2012|Casual|Gini and Jony Gir...|\n",
      "|51832| Women|       Apparel|  Innerwear|         Bra|     Beige|Summer|2016|Casual|Bwitch Beige Full...|\n",
      "|47359| Women|   Accessories|       Bags|    Handbags|     Brown|Summer|2012|Casual|Baggit Women Brow...|\n",
      "+-----+------+--------------+-----------+------------+----------+------+----+------+--------------------+\n",
      "only showing top 20 rows\n",
      "\n"
     ]
    }
   ],
   "source": [
    "df.show()"
   ]
  },
  {
   "cell_type": "code",
   "execution_count": 60,
   "metadata": {},
   "outputs": [
    {
     "data": {
      "text/html": [
       "<div>\n",
       "<style scoped>\n",
       "    .dataframe tbody tr th:only-of-type {\n",
       "        vertical-align: middle;\n",
       "    }\n",
       "\n",
       "    .dataframe tbody tr th {\n",
       "        vertical-align: top;\n",
       "    }\n",
       "\n",
       "    .dataframe thead th {\n",
       "        text-align: right;\n",
       "    }\n",
       "</style>\n",
       "<table border=\"1\" class=\"dataframe\">\n",
       "  <thead>\n",
       "    <tr style=\"text-align: right;\">\n",
       "      <th></th>\n",
       "      <th>summary</th>\n",
       "      <th>id</th>\n",
       "      <th>gender</th>\n",
       "      <th>masterCategory</th>\n",
       "      <th>subCategory</th>\n",
       "      <th>articleType</th>\n",
       "      <th>baseColour</th>\n",
       "      <th>season</th>\n",
       "      <th>year</th>\n",
       "      <th>usage</th>\n",
       "      <th>productDisplayName</th>\n",
       "    </tr>\n",
       "  </thead>\n",
       "  <tbody>\n",
       "    <tr>\n",
       "      <th>0</th>\n",
       "      <td>count</td>\n",
       "      <td>44446</td>\n",
       "      <td>44446</td>\n",
       "      <td>44446</td>\n",
       "      <td>44446</td>\n",
       "      <td>44446</td>\n",
       "      <td>44446</td>\n",
       "      <td>44425</td>\n",
       "      <td>44445</td>\n",
       "      <td>44445</td>\n",
       "      <td>44446</td>\n",
       "    </tr>\n",
       "    <tr>\n",
       "      <th>1</th>\n",
       "      <td>mean</td>\n",
       "      <td>29692.631350402735</td>\n",
       "      <td>None</td>\n",
       "      <td>None</td>\n",
       "      <td>None</td>\n",
       "      <td>None</td>\n",
       "      <td>None</td>\n",
       "      <td>None</td>\n",
       "      <td>2012.8059399257509</td>\n",
       "      <td>None</td>\n",
       "      <td>None</td>\n",
       "    </tr>\n",
       "    <tr>\n",
       "      <th>2</th>\n",
       "      <td>stddev</td>\n",
       "      <td>17048.234981940943</td>\n",
       "      <td>None</td>\n",
       "      <td>None</td>\n",
       "      <td>None</td>\n",
       "      <td>None</td>\n",
       "      <td>None</td>\n",
       "      <td>None</td>\n",
       "      <td>2.126401404408453</td>\n",
       "      <td>None</td>\n",
       "      <td>None</td>\n",
       "    </tr>\n",
       "    <tr>\n",
       "      <th>3</th>\n",
       "      <td>min</td>\n",
       "      <td>10000</td>\n",
       "      <td>Boys</td>\n",
       "      <td>Accessories</td>\n",
       "      <td>Accessories</td>\n",
       "      <td>Accessory Gift Set</td>\n",
       "      <td>Beige</td>\n",
       "      <td>Fall</td>\n",
       "      <td>2007</td>\n",
       "      <td>Casual</td>\n",
       "      <td>109F Blue A-Line Dress</td>\n",
       "    </tr>\n",
       "    <tr>\n",
       "      <th>4</th>\n",
       "      <td>max</td>\n",
       "      <td>9999</td>\n",
       "      <td>Women</td>\n",
       "      <td>Sporting Goods</td>\n",
       "      <td>Wristbands</td>\n",
       "      <td>Wristbands</td>\n",
       "      <td>Yellow</td>\n",
       "      <td>Winter</td>\n",
       "      <td>2019</td>\n",
       "      <td>Travel</td>\n",
       "      <td>united Colors Of Benetton Women Grey Tight</td>\n",
       "    </tr>\n",
       "  </tbody>\n",
       "</table>\n",
       "</div>"
      ],
      "text/plain": [
       "  summary                  id gender  masterCategory  subCategory  \\\n",
       "0   count               44446  44446           44446        44446   \n",
       "1    mean  29692.631350402735   None            None         None   \n",
       "2  stddev  17048.234981940943   None            None         None   \n",
       "3     min               10000   Boys     Accessories  Accessories   \n",
       "4     max                9999  Women  Sporting Goods   Wristbands   \n",
       "\n",
       "          articleType baseColour  season                year   usage  \\\n",
       "0               44446      44446   44425               44445   44445   \n",
       "1                None       None    None  2012.8059399257509    None   \n",
       "2                None       None    None   2.126401404408453    None   \n",
       "3  Accessory Gift Set      Beige    Fall                2007  Casual   \n",
       "4          Wristbands     Yellow  Winter                2019  Travel   \n",
       "\n",
       "                           productDisplayName  \n",
       "0                                       44446  \n",
       "1                                        None  \n",
       "2                                        None  \n",
       "3                      109F Blue A-Line Dress  \n",
       "4  united Colors Of Benetton Women Grey Tight  "
      ]
     },
     "execution_count": 60,
     "metadata": {},
     "output_type": "execute_result"
    }
   ],
   "source": [
    "# df.describe().show()  #for pyspark\n",
    "df.describe().toPandas()"
   ]
  },
  {
   "cell_type": "code",
   "execution_count": 61,
   "metadata": {},
   "outputs": [
    {
     "data": {
      "text/html": [
       "<div>\n",
       "<style scoped>\n",
       "    .dataframe tbody tr th:only-of-type {\n",
       "        vertical-align: middle;\n",
       "    }\n",
       "\n",
       "    .dataframe tbody tr th {\n",
       "        vertical-align: top;\n",
       "    }\n",
       "\n",
       "    .dataframe thead th {\n",
       "        text-align: right;\n",
       "    }\n",
       "</style>\n",
       "<table border=\"1\" class=\"dataframe\">\n",
       "  <thead>\n",
       "    <tr style=\"text-align: right;\">\n",
       "      <th></th>\n",
       "      <th>summary</th>\n",
       "      <th>id</th>\n",
       "      <th>gender</th>\n",
       "      <th>masterCategory</th>\n",
       "      <th>subCategory</th>\n",
       "      <th>articleType</th>\n",
       "      <th>baseColour</th>\n",
       "      <th>season</th>\n",
       "      <th>year</th>\n",
       "      <th>usage</th>\n",
       "      <th>productDisplayName</th>\n",
       "    </tr>\n",
       "  </thead>\n",
       "  <tbody>\n",
       "    <tr>\n",
       "      <th>0</th>\n",
       "      <td>count</td>\n",
       "      <td>44446</td>\n",
       "      <td>44446</td>\n",
       "      <td>44446</td>\n",
       "      <td>44446</td>\n",
       "      <td>44446</td>\n",
       "      <td>44446</td>\n",
       "      <td>44425</td>\n",
       "      <td>44445</td>\n",
       "      <td>44445</td>\n",
       "      <td>44446</td>\n",
       "    </tr>\n",
       "    <tr>\n",
       "      <th>1</th>\n",
       "      <td>mean</td>\n",
       "      <td>29692.631350402735</td>\n",
       "      <td>None</td>\n",
       "      <td>None</td>\n",
       "      <td>None</td>\n",
       "      <td>None</td>\n",
       "      <td>None</td>\n",
       "      <td>None</td>\n",
       "      <td>2012.8059399257509</td>\n",
       "      <td>None</td>\n",
       "      <td>None</td>\n",
       "    </tr>\n",
       "    <tr>\n",
       "      <th>2</th>\n",
       "      <td>stddev</td>\n",
       "      <td>17048.234981940943</td>\n",
       "      <td>None</td>\n",
       "      <td>None</td>\n",
       "      <td>None</td>\n",
       "      <td>None</td>\n",
       "      <td>None</td>\n",
       "      <td>None</td>\n",
       "      <td>2.126401404408453</td>\n",
       "      <td>None</td>\n",
       "      <td>None</td>\n",
       "    </tr>\n",
       "    <tr>\n",
       "      <th>3</th>\n",
       "      <td>min</td>\n",
       "      <td>10000</td>\n",
       "      <td>Boys</td>\n",
       "      <td>Accessories</td>\n",
       "      <td>Accessories</td>\n",
       "      <td>Accessory Gift Set</td>\n",
       "      <td>Beige</td>\n",
       "      <td>Fall</td>\n",
       "      <td>2007</td>\n",
       "      <td>Casual</td>\n",
       "      <td>109F Blue A-Line Dress</td>\n",
       "    </tr>\n",
       "    <tr>\n",
       "      <th>4</th>\n",
       "      <td>25%</td>\n",
       "      <td>14771.0</td>\n",
       "      <td>None</td>\n",
       "      <td>None</td>\n",
       "      <td>None</td>\n",
       "      <td>None</td>\n",
       "      <td>None</td>\n",
       "      <td>None</td>\n",
       "      <td>2011.0</td>\n",
       "      <td>None</td>\n",
       "      <td>None</td>\n",
       "    </tr>\n",
       "    <tr>\n",
       "      <th>5</th>\n",
       "      <td>50%</td>\n",
       "      <td>28605.0</td>\n",
       "      <td>None</td>\n",
       "      <td>None</td>\n",
       "      <td>None</td>\n",
       "      <td>None</td>\n",
       "      <td>None</td>\n",
       "      <td>None</td>\n",
       "      <td>2012.0</td>\n",
       "      <td>None</td>\n",
       "      <td>None</td>\n",
       "    </tr>\n",
       "    <tr>\n",
       "      <th>6</th>\n",
       "      <td>75%</td>\n",
       "      <td>44676.0</td>\n",
       "      <td>None</td>\n",
       "      <td>None</td>\n",
       "      <td>None</td>\n",
       "      <td>None</td>\n",
       "      <td>None</td>\n",
       "      <td>None</td>\n",
       "      <td>2015.0</td>\n",
       "      <td>None</td>\n",
       "      <td>None</td>\n",
       "    </tr>\n",
       "    <tr>\n",
       "      <th>7</th>\n",
       "      <td>max</td>\n",
       "      <td>9999</td>\n",
       "      <td>Women</td>\n",
       "      <td>Sporting Goods</td>\n",
       "      <td>Wristbands</td>\n",
       "      <td>Wristbands</td>\n",
       "      <td>Yellow</td>\n",
       "      <td>Winter</td>\n",
       "      <td>2019</td>\n",
       "      <td>Travel</td>\n",
       "      <td>united Colors Of Benetton Women Grey Tight</td>\n",
       "    </tr>\n",
       "  </tbody>\n",
       "</table>\n",
       "</div>"
      ],
      "text/plain": [
       "  summary                  id gender  masterCategory  subCategory  \\\n",
       "0   count               44446  44446           44446        44446   \n",
       "1    mean  29692.631350402735   None            None         None   \n",
       "2  stddev  17048.234981940943   None            None         None   \n",
       "3     min               10000   Boys     Accessories  Accessories   \n",
       "4     25%             14771.0   None            None         None   \n",
       "5     50%             28605.0   None            None         None   \n",
       "6     75%             44676.0   None            None         None   \n",
       "7     max                9999  Women  Sporting Goods   Wristbands   \n",
       "\n",
       "          articleType baseColour  season                year   usage  \\\n",
       "0               44446      44446   44425               44445   44445   \n",
       "1                None       None    None  2012.8059399257509    None   \n",
       "2                None       None    None   2.126401404408453    None   \n",
       "3  Accessory Gift Set      Beige    Fall                2007  Casual   \n",
       "4                None       None    None              2011.0    None   \n",
       "5                None       None    None              2012.0    None   \n",
       "6                None       None    None              2015.0    None   \n",
       "7          Wristbands     Yellow  Winter                2019  Travel   \n",
       "\n",
       "                           productDisplayName  \n",
       "0                                       44446  \n",
       "1                                        None  \n",
       "2                                        None  \n",
       "3                      109F Blue A-Line Dress  \n",
       "4                                        None  \n",
       "5                                        None  \n",
       "6                                        None  \n",
       "7  united Colors Of Benetton Women Grey Tight  "
      ]
     },
     "execution_count": 61,
     "metadata": {},
     "output_type": "execute_result"
    }
   ],
   "source": [
    "# df.summary().show()\n",
    "df.summary().toPandas()"
   ]
  },
  {
   "cell_type": "code",
   "execution_count": 62,
   "metadata": {},
   "outputs": [],
   "source": [
    "# df.toPandas().info()\n",
    "\n",
    "#pandas version is not correct for this statement to run sucesfully."
   ]
  },
  {
   "cell_type": "code",
   "execution_count": 63,
   "metadata": {},
   "outputs": [
    {
     "name": "stdout",
     "output_type": "stream",
     "text": [
      "+---+------+--------------+-----------+-----------+----------+------+----+-----+------------------+\n",
      "| id|gender|masterCategory|subCategory|articleType|baseColour|season|year|usage|productDisplayName|\n",
      "+---+------+--------------+-----------+-----------+----------+------+----+-----+------------------+\n",
      "|  0|     0|             0|          0|          0|         0|     0|   0|    0|                 0|\n",
      "+---+------+--------------+-----------+-----------+----------+------+----+-----+------------------+\n",
      "\n"
     ]
    }
   ],
   "source": [
    "from pyspark.sql.functions import isnan, when, count, col\n",
    "df.select([count(when(isnan(c), c)).alias(c) for c in df.columns]).show()"
   ]
  },
  {
   "cell_type": "code",
   "execution_count": 64,
   "metadata": {},
   "outputs": [
    {
     "name": "stdout",
     "output_type": "stream",
     "text": [
      "id ['15970' '39386' '59263' ... '18842' '46694' '51623']\n",
      "\n",
      "gender ['Men' 'Women' 'Boys' 'Girls' 'Unisex']\n",
      "\n",
      "masterCategory ['Apparel' 'Accessories' 'Footwear' 'Personal Care' 'Free Items'\n",
      " 'Sporting Goods' 'Home']\n",
      "\n",
      "subCategory ['Topwear' 'Bottomwear' 'Watches' 'Socks' 'Shoes' 'Belts' 'Flip Flops'\n",
      " 'Bags' 'Innerwear' 'Sandal' 'Shoe Accessories' 'Fragrance' 'Jewellery'\n",
      " 'Lips' 'Saree' 'Eyewear' 'Nails' 'Scarves' 'Dress'\n",
      " 'Loungewear and Nightwear' 'Wallets' 'Apparel Set' 'Headwear' 'Mufflers'\n",
      " 'Skin Care' 'Makeup' 'Free Gifts' 'Ties' 'Accessories' 'Skin'\n",
      " 'Beauty Accessories' 'Water Bottle' 'Eyes' 'Bath and Body' 'Gloves'\n",
      " 'Sports Accessories' 'Cufflinks' 'Sports Equipment' 'Stoles' 'Hair'\n",
      " 'Perfumes' 'Home Furnishing' 'Umbrellas' 'Wristbands' 'Vouchers']\n",
      "\n",
      "articleType ['Shirts' 'Jeans' 'Watches' 'Track Pants' 'Tshirts' 'Socks' 'Casual Shoes'\n",
      " 'Belts' 'Flip Flops' 'Handbags' 'Tops' 'Bra' 'Sandals' 'Shoe Accessories'\n",
      " 'Sweatshirts' 'Deodorant' 'Formal Shoes' 'Bracelet' 'Lipstick' 'Flats'\n",
      " 'Kurtas' 'Waistcoat' 'Sports Shoes' 'Shorts' 'Briefs' 'Sarees'\n",
      " 'Perfume and Body Mist' 'Heels' 'Sunglasses' 'Innerwear Vests' 'Pendant'\n",
      " 'Nail Polish' 'Laptop Bag' 'Scarves' 'Rain Jacket' 'Dresses'\n",
      " 'Night suits' 'Skirts' 'Wallets' 'Blazers' 'Ring' 'Kurta Sets' 'Clutches'\n",
      " 'Shrug' 'Backpacks' 'Caps' 'Trousers' 'Earrings' 'Camisoles' 'Boxers'\n",
      " 'Jewellery Set' 'Dupatta' 'Capris' 'Lip Gloss' 'Bath Robe' 'Mufflers'\n",
      " 'Tunics' 'Jackets' 'Trunk' 'Lounge Pants' 'Face Wash and Cleanser'\n",
      " 'Necklace and Chains' 'Duffel Bag' 'Sports Sandals'\n",
      " 'Foundation and Primer' 'Sweaters' 'Free Gifts' 'Trolley Bag'\n",
      " 'Tracksuits' 'Swimwear' 'Shoe Laces' 'Fragrance Gift Set' 'Bangle'\n",
      " 'Nightdress' 'Ties' 'Baby Dolls' 'Leggings' 'Highlighter and Blush'\n",
      " 'Travel Accessory' 'Kurtis' 'Mobile Pouch' 'Messenger Bag' 'Lip Care'\n",
      " 'Face Moisturisers' 'Compact' 'Eye Cream' 'Accessory Gift Set'\n",
      " 'Beauty Accessory' 'Jumpsuit' 'Kajal and Eyeliner' 'Water Bottle'\n",
      " 'Suspenders' 'Lip Liner' 'Robe' 'Salwar and Dupatta' 'Patiala'\n",
      " 'Stockings' 'Eyeshadow' 'Headband' 'Tights' 'Nail Essentials' 'Churidar'\n",
      " 'Lounge Tshirts' 'Face Scrub and Exfoliator' 'Lounge Shorts' 'Gloves'\n",
      " 'Mask and Peel' 'Wristbands' 'Tablet Sleeve' 'Ties and Cufflinks'\n",
      " 'Footballs' 'Stoles' 'Shapewear' 'Nehru Jackets' 'Salwar' 'Cufflinks'\n",
      " 'Jeggings' 'Hair Colour' 'Concealer' 'Rompers' 'Body Lotion' 'Sunscreen'\n",
      " 'Booties' 'Waist Pouch' 'Hair Accessory' 'Rucksacks' 'Basketballs'\n",
      " 'Lehenga Choli' 'Clothing Set' 'Mascara' 'Toner' 'Cushion Covers'\n",
      " 'Key chain' 'Makeup Remover' 'Lip Plumper' 'Umbrellas'\n",
      " 'Face Serum and Gel' 'Hat' 'Mens Grooming Kit' 'Rain Trousers'\n",
      " 'Body Wash and Scrub' 'Suits' 'Ipad']\n",
      "\n",
      "baseColour ['Navy Blue' 'Blue' 'Silver' 'Black' 'Grey' 'Green' 'Purple' 'White'\n",
      " 'Beige' 'Brown' 'Bronze' 'Teal' 'Copper' 'Pink' 'Off White' 'Maroon'\n",
      " 'Red' 'Khaki' 'Orange' 'Coffee Brown' 'Yellow' 'Charcoal' 'Gold' 'Steel'\n",
      " 'Tan' 'Multi' 'Magenta' 'Lavender' 'Sea Green' 'Cream' 'Peach' 'Olive'\n",
      " 'Skin' 'Burgundy' 'Grey Melange' 'Rust' 'Rose' 'Lime Green' 'Mauve'\n",
      " 'Turquoise Blue' 'Metallic' 'Mustard' 'Taupe' 'Nude' 'Mushroom Brown'\n",
      " 'NA' 'Fluorescent Green']\n",
      "\n",
      "season ['Fall' 'Summer' 'Winter' 'Spring' None]\n",
      "\n",
      "year ['2011' '2012' '2016' '2017' '2015' '2014' '2010' '2013' '2018' '2019'\n",
      " '2007' '2009' '2008' None]\n",
      "\n",
      "usage ['Casual' 'Ethnic' 'Formal' 'Sports' 'NA' 'Smart Casual' 'Travel' 'Party'\n",
      " None 'Home']\n",
      "\n",
      "productDisplayName ['Turtle Check Men Navy Blue Shirt' 'Peter England Men Party Blue Jeans'\n",
      " 'Titan Women Silver Watch' ... \"Lotto Men's Soccer Track Flip Flop\"\n",
      " 'Puma Men Graphic Stellar Blue Tshirt'\n",
      " 'Fossil Women Pink Dial Chronograph Watch ES3050']\n",
      "\n"
     ]
    },
    {
     "data": {
      "text/plain": [
       "[None, None, None, None, None, None, None, None, None, None]"
      ]
     },
     "execution_count": 64,
     "metadata": {},
     "output_type": "execute_result"
    }
   ],
   "source": [
    "df_pandas= df.toPandas()\n",
    "[print(i, df_pandas[i].unique(), end=\"\\n\\n\") for i in df_pandas.columns if df_pandas[i].dtype=='object']"
   ]
  },
  {
   "cell_type": "code",
   "execution_count": 65,
   "metadata": {},
   "outputs": [
    {
     "data": {
      "text/plain": [
       "['Sporting Goods',\n",
       " 'Home',\n",
       " 'Apparel',\n",
       " 'Footwear',\n",
       " 'Accessories',\n",
       " 'Personal Care',\n",
       " 'Free Items']"
      ]
     },
     "execution_count": 65,
     "metadata": {},
     "output_type": "execute_result"
    }
   ],
   "source": [
    "# rf= df.select('masterCategory').distinct().rdd.map(lambda r: r[0]).collect()\n",
    "[i.masterCategory for i in df.select(\"masterCategory\").distinct().collect()]"
   ]
  },
  {
   "cell_type": "code",
   "execution_count": 66,
   "metadata": {},
   "outputs": [
    {
     "name": "stdout",
     "output_type": "stream",
     "text": [
      "{'Sporting Goods': 0, 'Home': 1, 'Apparel': 2, 'Footwear': 3, 'Accessories': 4, 'Personal Care': 5, 'Free Items': 6}\n"
     ]
    }
   ],
   "source": [
    "mapper = {}\n",
    "for i,cat in enumerate([i.masterCategory for i in df.select(\"masterCategory\").distinct().collect()]):\n",
    "    mapper[cat] = i\n",
    "print(mapper)"
   ]
  },
  {
   "cell_type": "code",
   "execution_count": 67,
   "metadata": {},
   "outputs": [],
   "source": [
    "# df =df.withColumn(\"targets\",df.masterCategory.map(mapper))"
   ]
  },
  {
   "cell_type": "code",
   "execution_count": 68,
   "metadata": {},
   "outputs": [],
   "source": [
    "#using udf, job is getting aborted\n",
    "# def translate(mapping):\n",
    "#     def translate_(col):\n",
    "#         return mapping.get(col)\n",
    "#     return udf(translate_, StringType())\n",
    "# df.withColumn(\"value\", translate(mapper)(\"masterCategory\")).show()"
   ]
  },
  {
   "cell_type": "code",
   "execution_count": 69,
   "metadata": {},
   "outputs": [
    {
     "name": "stdout",
     "output_type": "stream",
     "text": [
      "+-----+------+--------------+-----------+------------+----------+------+----+------+--------------------+-------+\n",
      "|   id|gender|masterCategory|subCategory| articleType|baseColour|season|year| usage|  productDisplayName|targets|\n",
      "+-----+------+--------------+-----------+------------+----------+------+----+------+--------------------+-------+\n",
      "|15970|   Men|       Apparel|    Topwear|      Shirts| Navy Blue|  Fall|2011|Casual|Turtle Check Men ...|      2|\n",
      "|39386|   Men|       Apparel| Bottomwear|       Jeans|      Blue|Summer|2012|Casual|Peter England Men...|      2|\n",
      "|59263| Women|   Accessories|    Watches|     Watches|    Silver|Winter|2016|Casual|Titan Women Silve...|      4|\n",
      "|21379|   Men|       Apparel| Bottomwear| Track Pants|     Black|  Fall|2011|Casual|Manchester United...|      2|\n",
      "|53759|   Men|       Apparel|    Topwear|     Tshirts|      Grey|Summer|2012|Casual|Puma Men Grey T-s...|      2|\n",
      "| 1855|   Men|       Apparel|    Topwear|     Tshirts|      Grey|Summer|2011|Casual|Inkfruit Mens Cha...|      2|\n",
      "|30805|   Men|       Apparel|    Topwear|      Shirts|     Green|Summer|2012|Ethnic|Fabindia Men Stri...|      2|\n",
      "|26960| Women|       Apparel|    Topwear|      Shirts|    Purple|Summer|2012|Casual|Jealous 21 Women ...|      2|\n",
      "|29114|   Men|   Accessories|      Socks|       Socks| Navy Blue|Summer|2012|Casual|Puma Men Pack of ...|      4|\n",
      "|30039|   Men|   Accessories|    Watches|     Watches|     Black|Winter|2016|Casual|Skagen Men Black ...|      4|\n",
      "| 9204|   Men|      Footwear|      Shoes|Casual Shoes|     Black|Summer|2011|Casual|Puma Men Future C...|      3|\n",
      "|48123| Women|   Accessories|      Belts|       Belts|     Black|Summer|2012|Casual|Fossil Women Blac...|      4|\n",
      "|18653|   Men|      Footwear| Flip Flops|  Flip Flops|     Black|  Fall|2011|Casual|Fila Men Cush Fle...|      3|\n",
      "|47957| Women|   Accessories|       Bags|    Handbags|      Blue|Summer|2012|Casual|Murcia Women Blue...|      4|\n",
      "|46885|  Boys|      Footwear| Flip Flops|  Flip Flops| Navy Blue|  Fall|2012|Casual|Ben 10 Boys Navy ...|      3|\n",
      "|12369|   Men|       Apparel|    Topwear|      Shirts|    Purple|  Fall|2011|Formal|Reid & Taylor Men...|      2|\n",
      "|29928|   Men|   Accessories|    Watches|     Watches|     Black|Winter|2016|Casual|Police Men Black ...|      4|\n",
      "|42419| Girls|       Apparel|    Topwear|        Tops|     White|Summer|2012|Casual|Gini and Jony Gir...|      2|\n",
      "|51832| Women|       Apparel|  Innerwear|         Bra|     Beige|Summer|2016|Casual|Bwitch Beige Full...|      2|\n",
      "|47359| Women|   Accessories|       Bags|    Handbags|     Brown|Summer|2012|Casual|Baggit Women Brow...|      4|\n",
      "+-----+------+--------------+-----------+------------+----------+------+----+------+--------------------+-------+\n",
      "only showing top 20 rows\n",
      "\n"
     ]
    }
   ],
   "source": [
    "from pyspark.sql.functions import col, create_map, lit\n",
    "from itertools import chain\n",
    "\n",
    "mapping_expr = create_map([lit(x) for x in chain(*mapper.items())])\n",
    "\n",
    "df = df.withColumn(\"targets\", mapping_expr.getItem(col(\"masterCategory\"))).show()"
   ]
  },
  {
   "cell_type": "code",
   "execution_count": null,
   "metadata": {},
   "outputs": [],
   "source": []
  },
  {
   "cell_type": "code",
   "execution_count": 70,
   "metadata": {},
   "outputs": [],
   "source": [
    "#EMBEDDINGS"
   ]
  },
  {
   "cell_type": "code",
   "execution_count": 71,
   "metadata": {},
   "outputs": [],
   "source": [
    "path = \"../case_study/data/archive/less_images\"\n",
    "img_names= []\n",
    "\n",
    "for folder, subfolders,filenames in os.walk(path):\n",
    "    for img in filenames:\n",
    "        img_names.append(folder + \"/\" + img)"
   ]
  },
  {
   "cell_type": "code",
   "execution_count": 72,
   "metadata": {},
   "outputs": [
    {
     "data": {
      "text/plain": [
       "11"
      ]
     },
     "execution_count": 72,
     "metadata": {},
     "output_type": "execute_result"
    }
   ],
   "source": [
    "len(img_names)"
   ]
  },
  {
   "cell_type": "code",
   "execution_count": 73,
   "metadata": {},
   "outputs": [],
   "source": [
    "img_sizes=[]\n",
    "rejected=[]\n",
    "\n",
    "for item in img_names:\n",
    "    try:\n",
    "        with Image.open(item) as img:\n",
    "            imag_sizes.append(img.size)\n",
    "    except:\n",
    "        rejected.append(img.size)"
   ]
  },
  {
   "cell_type": "code",
   "execution_count": 74,
   "metadata": {},
   "outputs": [
    {
     "name": "stdout",
     "output_type": "stream",
     "text": [
      "0\n",
      "11\n"
     ]
    }
   ],
   "source": [
    "print(len(img_sizes))\n",
    "print(len(rejected))"
   ]
  },
  {
   "cell_type": "code",
   "execution_count": 75,
   "metadata": {},
   "outputs": [],
   "source": [
    "df=pd.DataFrame(rejected)"
   ]
  },
  {
   "cell_type": "code",
   "execution_count": 76,
   "metadata": {},
   "outputs": [
    {
     "data": {
      "text/html": [
       "<div>\n",
       "<style scoped>\n",
       "    .dataframe tbody tr th:only-of-type {\n",
       "        vertical-align: middle;\n",
       "    }\n",
       "\n",
       "    .dataframe tbody tr th {\n",
       "        vertical-align: top;\n",
       "    }\n",
       "\n",
       "    .dataframe thead th {\n",
       "        text-align: right;\n",
       "    }\n",
       "</style>\n",
       "<table border=\"1\" class=\"dataframe\">\n",
       "  <thead>\n",
       "    <tr style=\"text-align: right;\">\n",
       "      <th></th>\n",
       "      <th>0</th>\n",
       "      <th>1</th>\n",
       "    </tr>\n",
       "  </thead>\n",
       "  <tbody>\n",
       "    <tr>\n",
       "      <th>0</th>\n",
       "      <td>60</td>\n",
       "      <td>80</td>\n",
       "    </tr>\n",
       "    <tr>\n",
       "      <th>1</th>\n",
       "      <td>60</td>\n",
       "      <td>80</td>\n",
       "    </tr>\n",
       "    <tr>\n",
       "      <th>2</th>\n",
       "      <td>60</td>\n",
       "      <td>80</td>\n",
       "    </tr>\n",
       "    <tr>\n",
       "      <th>3</th>\n",
       "      <td>60</td>\n",
       "      <td>80</td>\n",
       "    </tr>\n",
       "    <tr>\n",
       "      <th>4</th>\n",
       "      <td>60</td>\n",
       "      <td>80</td>\n",
       "    </tr>\n",
       "  </tbody>\n",
       "</table>\n",
       "</div>"
      ],
      "text/plain": [
       "    0   1\n",
       "0  60  80\n",
       "1  60  80\n",
       "2  60  80\n",
       "3  60  80\n",
       "4  60  80"
      ]
     },
     "execution_count": 76,
     "metadata": {},
     "output_type": "execute_result"
    }
   ],
   "source": [
    "df.head()"
   ]
  },
  {
   "cell_type": "code",
   "execution_count": 77,
   "metadata": {},
   "outputs": [
    {
     "data": {
      "text/plain": [
       "array([60], dtype=int64)"
      ]
     },
     "execution_count": 77,
     "metadata": {},
     "output_type": "execute_result"
    }
   ],
   "source": [
    "df[0].unique()"
   ]
  },
  {
   "cell_type": "code",
   "execution_count": 78,
   "metadata": {},
   "outputs": [
    {
     "data": {
      "text/plain": [
       "array([80], dtype=int64)"
      ]
     },
     "execution_count": 78,
     "metadata": {},
     "output_type": "execute_result"
    }
   ],
   "source": [
    "df[1].unique()"
   ]
  },
  {
   "cell_type": "code",
   "execution_count": 79,
   "metadata": {},
   "outputs": [
    {
     "data": {
      "text/plain": [
       "count    11.0\n",
       "mean     60.0\n",
       "std       0.0\n",
       "min      60.0\n",
       "25%      60.0\n",
       "50%      60.0\n",
       "75%      60.0\n",
       "max      60.0\n",
       "Name: 0, dtype: float64"
      ]
     },
     "execution_count": 79,
     "metadata": {},
     "output_type": "execute_result"
    }
   ],
   "source": [
    "df[0].describe()"
   ]
  },
  {
   "cell_type": "code",
   "execution_count": 80,
   "metadata": {},
   "outputs": [
    {
     "data": {
      "text/plain": [
       "count    11.0\n",
       "mean     80.0\n",
       "std       0.0\n",
       "min      80.0\n",
       "25%      80.0\n",
       "50%      80.0\n",
       "75%      80.0\n",
       "max      80.0\n",
       "Name: 1, dtype: float64"
      ]
     },
     "execution_count": 80,
     "metadata": {},
     "output_type": "execute_result"
    }
   ],
   "source": [
    "df[1].describe()"
   ]
  },
  {
   "cell_type": "code",
   "execution_count": 81,
   "metadata": {},
   "outputs": [
    {
     "data": {
      "image/jpeg": "[encoded data removed]",
      "text/plain": [
       "<IPython.core.display.Image object>"
      ]
     },
     "execution_count": 81,
     "metadata": {},
     "output_type": "execute_result"
    }
   ],
   "source": [
    "from IPython import display\n",
    "display.Image(r\"../case_study/data/archive/less_images/2057.jpg\")"
   ]
  },
  {
   "cell_type": "code",
   "execution_count": 82,
   "metadata": {},
   "outputs": [],
   "source": [
    "shirt=Image.open(\"../case_study/data/archive/less_images/2057.jpg\")"
   ]
  },
  {
   "cell_type": "code",
   "execution_count": 83,
   "metadata": {},
   "outputs": [
    {
     "name": "stdout",
     "output_type": "stream",
     "text": [
      "(60, 80)\n",
      "(255, 255, 255)\n"
     ]
    }
   ],
   "source": [
    "print(shirt.size)\n",
    "print(shirt.getpixel((0,0)))"
   ]
  },
  {
   "cell_type": "code",
   "execution_count": 84,
   "metadata": {},
   "outputs": [
    {
     "name": "stderr",
     "output_type": "stream",
     "text": [
      "Clipping input data to the valid range for imshow with RGB data ([0..1] for floats or [0..255] for integers).\n"
     ]
    },
    {
     "data": {
      "text/plain": [
       "<matplotlib.image.AxesImage at 0x2707e66b208>"
      ]
     },
     "execution_count": 84,
     "metadata": {},
     "output_type": "execute_result"
    },
    {
     "data": {
      "image/png": "[encoded data removed]",
      "text/plain": [
       "<Figure size 432x288 with 1 Axes>"
      ]
     },
     "metadata": {
      "needs_background": "light"
     },
     "output_type": "display_data"
    }
   ],
   "source": [
    "tc = transforms.Compose([\n",
    "        transforms.Resize((256, 256)),\n",
    "#         transforms.RandomHorizontalFlip(p=0.2),\n",
    "#         transforms.RandomRotation(30),\n",
    "#         transforms.CenterCrop(30),\n",
    "        transforms.ToTensor(),\n",
    "    transforms.Normalize(mean=[0.485,0.456,0.406],std=[0.229,0.224,0.225])\n",
    "    ])\n",
    "im= tc(shirt)\n",
    "plt.imshow(np.transpose(im.numpy(),(1,2,0)))"
   ]
  },
  {
   "cell_type": "code",
   "execution_count": 85,
   "metadata": {},
   "outputs": [
    {
     "data": {
      "text/plain": [
       "tensor([[[2.2489, 2.2489, 2.2489,  ..., 2.2489, 2.2489, 2.2489],\n",
       "         [2.2489, 2.2489, 2.2489,  ..., 2.2489, 2.2489, 2.2489],\n",
       "         [2.2489, 2.2489, 2.2489,  ..., 2.2489, 2.2489, 2.2489],\n",
       "         ...,\n",
       "         [2.2489, 2.2489, 2.2489,  ..., 2.2489, 2.2489, 2.2489],\n",
       "         [2.2489, 2.2489, 2.2489,  ..., 2.2489, 2.2489, 2.2489],\n",
       "         [2.2489, 2.2489, 2.2489,  ..., 2.2489, 2.2489, 2.2489]],\n",
       "\n",
       "        [[2.4286, 2.4286, 2.4286,  ..., 2.4286, 2.4286, 2.4286],\n",
       "         [2.4286, 2.4286, 2.4286,  ..., 2.4286, 2.4286, 2.4286],\n",
       "         [2.4286, 2.4286, 2.4286,  ..., 2.4286, 2.4286, 2.4286],\n",
       "         ...,\n",
       "         [2.4286, 2.4286, 2.4286,  ..., 2.4286, 2.4286, 2.4286],\n",
       "         [2.4286, 2.4286, 2.4286,  ..., 2.4286, 2.4286, 2.4286],\n",
       "         [2.4286, 2.4286, 2.4286,  ..., 2.4286, 2.4286, 2.4286]],\n",
       "\n",
       "        [[2.6400, 2.6400, 2.6400,  ..., 2.6400, 2.6400, 2.6400],\n",
       "         [2.6400, 2.6400, 2.6400,  ..., 2.6400, 2.6400, 2.6400],\n",
       "         [2.6400, 2.6400, 2.6400,  ..., 2.6400, 2.6400, 2.6400],\n",
       "         ...,\n",
       "         [2.6400, 2.6400, 2.6400,  ..., 2.6400, 2.6400, 2.6400],\n",
       "         [2.6400, 2.6400, 2.6400,  ..., 2.6400, 2.6400, 2.6400],\n",
       "         [2.6400, 2.6400, 2.6400,  ..., 2.6400, 2.6400, 2.6400]]])"
      ]
     },
     "execution_count": 85,
     "metadata": {},
     "output_type": "execute_result"
    }
   ],
   "source": [
    "im"
   ]
  },
  {
   "cell_type": "code",
   "execution_count": 86,
   "metadata": {},
   "outputs": [],
   "source": [
    "# root_path = os.getcwd()\n",
    "# # style_csv = root_path +  \"/data/archive/styles.csv\"\n",
    "# image_path = root_path + \"/data/archive/less_images/*jpg\"\n",
    "data_dir = 'data/archive/'\n",
    "image_datasets = datasets.ImageFolder(data_dir, transform=tc)\n",
    "dloader = torch.utils.data.DataLoader(image_datasets, batch_size=10, shuffle=False)"
   ]
  },
  {
   "cell_type": "code",
   "execution_count": 87,
   "metadata": {},
   "outputs": [
    {
     "name": "stdout",
     "output_type": "stream",
     "text": [
      "11\n",
      "['less_images']\n"
     ]
    }
   ],
   "source": [
    "print(len(image_datasets))\n",
    "print((image_datasets.classes))"
   ]
  },
  {
   "cell_type": "code",
   "execution_count": 88,
   "metadata": {},
   "outputs": [
    {
     "data": {
      "text/plain": [
       "Dataset ImageFolder\n",
       "    Number of datapoints: 11\n",
       "    Root location: data/archive/\n",
       "    StandardTransform\n",
       "Transform: Compose(\n",
       "               Resize(size=(256, 256), interpolation=bilinear, max_size=None, antialias=None)\n",
       "               ToTensor()\n",
       "               Normalize(mean=[0.485, 0.456, 0.406], std=[0.229, 0.224, 0.225])\n",
       "           )"
      ]
     },
     "execution_count": 88,
     "metadata": {},
     "output_type": "execute_result"
    }
   ],
   "source": [
    "image_datasets"
   ]
  },
  {
   "cell_type": "code",
   "execution_count": 89,
   "metadata": {},
   "outputs": [
    {
     "name": "stdout",
     "output_type": "stream",
     "text": [
      "torch.Size([256, 256, 3])\n",
      "tensor([[[1.2214, 1.2214, 1.2214,  ..., 1.2385, 1.2385, 1.2385],\n",
      "         [1.2214, 1.2214, 1.2214,  ..., 1.2385, 1.2385, 1.2385],\n",
      "         [1.2214, 1.2214, 1.2214,  ..., 1.2385, 1.2385, 1.2385],\n",
      "         ...,\n",
      "         [1.2043, 1.2043, 1.2043,  ..., 1.1700, 1.1700, 1.1700],\n",
      "         [1.2043, 1.2043, 1.2043,  ..., 1.1700, 1.1700, 1.1700],\n",
      "         [1.2043, 1.2043, 1.2043,  ..., 1.1700, 1.1700, 1.1700]],\n",
      "\n",
      "        [[1.3256, 1.3256, 1.3256,  ..., 1.3431, 1.3431, 1.3431],\n",
      "         [1.3256, 1.3256, 1.3256,  ..., 1.3431, 1.3431, 1.3431],\n",
      "         [1.3256, 1.3256, 1.3256,  ..., 1.3431, 1.3431, 1.3431],\n",
      "         ...,\n",
      "         [1.3081, 1.3081, 1.3081,  ..., 1.2731, 1.2731, 1.2731],\n",
      "         [1.3081, 1.3081, 1.3081,  ..., 1.2731, 1.2731, 1.2731],\n",
      "         [1.3081, 1.3081, 1.3081,  ..., 1.2731, 1.2731, 1.2731]],\n",
      "\n",
      "        [[1.4200, 1.4200, 1.4200,  ..., 1.4722, 1.4722, 1.4722],\n",
      "         [1.4200, 1.4200, 1.4200,  ..., 1.4722, 1.4722, 1.4722],\n",
      "         [1.4200, 1.4200, 1.4200,  ..., 1.4722, 1.4722, 1.4722],\n",
      "         ...,\n",
      "         [1.4025, 1.4025, 1.4025,  ..., 1.4025, 1.4025, 1.4025],\n",
      "         [1.4025, 1.4025, 1.4025,  ..., 1.4025, 1.4025, 1.4025],\n",
      "         [1.4025, 1.4025, 1.4025,  ..., 1.4025, 1.4025, 1.4025]]])\n"
     ]
    },
    {
     "data": {
      "image/png": "[encoded data removed]",
      "text/plain": [
       "<Figure size 432x288 with 1 Axes>"
      ]
     },
     "metadata": {
      "needs_background": "light"
     },
     "output_type": "display_data"
    }
   ],
   "source": [
    "for img, label in dloader:\n",
    "    print(np.transpose(img[0], (1,2,0)).shape)\n",
    "    print(img[0])\n",
    "    plt.imshow((img[0].detach().numpy().transpose(1, 2, 0)*255).astype(np.uint8))\n",
    "    plt.show()\n",
    "    break"
   ]
  },
  {
   "cell_type": "code",
   "execution_count": 90,
   "metadata": {},
   "outputs": [
    {
     "data": {
      "text/plain": [
       "11"
      ]
     },
     "execution_count": 90,
     "metadata": {},
     "output_type": "execute_result"
    }
   ],
   "source": [
    "len(image_datasets)"
   ]
  },
  {
   "cell_type": "code",
   "execution_count": 91,
   "metadata": {},
   "outputs": [],
   "source": [
    "def copy_embeddings(m, i, o):\n",
    "    \"\"\"Copy embeddings from the penultimate layer.\n",
    "    \"\"\"\n",
    "    o = o[:, :, 0, 0].detach().numpy().tolist()\n",
    "    outputs.append(o)"
   ]
  },
  {
   "cell_type": "code",
   "execution_count": 92,
   "metadata": {},
   "outputs": [
    {
     "name": "stderr",
     "output_type": "stream",
     "text": [
      "Using cache found in C:\\Users\\Ashish Verma-GGN/.cache\\torch\\hub\\pytorch_vision_v0.10.0\n"
     ]
    }
   ],
   "source": [
    "# fetch pretrained model\n",
    "model = torch.hub.load('pytorch/vision:v0.10.0', 'resnet18', pretrained=True)"
   ]
  },
  {
   "cell_type": "code",
   "execution_count": 93,
   "metadata": {},
   "outputs": [],
   "source": [
    "# Select the desired layer\n",
    "layer = model._modules.get('avgpool')\n",
    "# attach hook to the penulimate layer\n",
    "_ = layer.register_forward_hook(copy_embeddings)"
   ]
  },
  {
   "cell_type": "code",
   "execution_count": 94,
   "metadata": {},
   "outputs": [
    {
     "data": {
      "text/plain": [
       "ResNet(\n",
       "  (conv1): Conv2d(3, 64, kernel_size=(7, 7), stride=(2, 2), padding=(3, 3), bias=False)\n",
       "  (bn1): BatchNorm2d(64, eps=1e-05, momentum=0.1, affine=True, track_running_stats=True)\n",
       "  (relu): ReLU(inplace=True)\n",
       "  (maxpool): MaxPool2d(kernel_size=3, stride=2, padding=1, dilation=1, ceil_mode=False)\n",
       "  (layer1): Sequential(\n",
       "    (0): BasicBlock(\n",
       "      (conv1): Conv2d(64, 64, kernel_size=(3, 3), stride=(1, 1), padding=(1, 1), bias=False)\n",
       "      (bn1): BatchNorm2d(64, eps=1e-05, momentum=0.1, affine=True, track_running_stats=True)\n",
       "      (relu): ReLU(inplace=True)\n",
       "      (conv2): Conv2d(64, 64, kernel_size=(3, 3), stride=(1, 1), padding=(1, 1), bias=False)\n",
       "      (bn2): BatchNorm2d(64, eps=1e-05, momentum=0.1, affine=True, track_running_stats=True)\n",
       "    )\n",
       "    (1): BasicBlock(\n",
       "      (conv1): Conv2d(64, 64, kernel_size=(3, 3), stride=(1, 1), padding=(1, 1), bias=False)\n",
       "      (bn1): BatchNorm2d(64, eps=1e-05, momentum=0.1, affine=True, track_running_stats=True)\n",
       "      (relu): ReLU(inplace=True)\n",
       "      (conv2): Conv2d(64, 64, kernel_size=(3, 3), stride=(1, 1), padding=(1, 1), bias=False)\n",
       "      (bn2): BatchNorm2d(64, eps=1e-05, momentum=0.1, affine=True, track_running_stats=True)\n",
       "    )\n",
       "  )\n",
       "  (layer2): Sequential(\n",
       "    (0): BasicBlock(\n",
       "      (conv1): Conv2d(64, 128, kernel_size=(3, 3), stride=(2, 2), padding=(1, 1), bias=False)\n",
       "      (bn1): BatchNorm2d(128, eps=1e-05, momentum=0.1, affine=True, track_running_stats=True)\n",
       "      (relu): ReLU(inplace=True)\n",
       "      (conv2): Conv2d(128, 128, kernel_size=(3, 3), stride=(1, 1), padding=(1, 1), bias=False)\n",
       "      (bn2): BatchNorm2d(128, eps=1e-05, momentum=0.1, affine=True, track_running_stats=True)\n",
       "      (downsample): Sequential(\n",
       "        (0): Conv2d(64, 128, kernel_size=(1, 1), stride=(2, 2), bias=False)\n",
       "        (1): BatchNorm2d(128, eps=1e-05, momentum=0.1, affine=True, track_running_stats=True)\n",
       "      )\n",
       "    )\n",
       "    (1): BasicBlock(\n",
       "      (conv1): Conv2d(128, 128, kernel_size=(3, 3), stride=(1, 1), padding=(1, 1), bias=False)\n",
       "      (bn1): BatchNorm2d(128, eps=1e-05, momentum=0.1, affine=True, track_running_stats=True)\n",
       "      (relu): ReLU(inplace=True)\n",
       "      (conv2): Conv2d(128, 128, kernel_size=(3, 3), stride=(1, 1), padding=(1, 1), bias=False)\n",
       "      (bn2): BatchNorm2d(128, eps=1e-05, momentum=0.1, affine=True, track_running_stats=True)\n",
       "    )\n",
       "  )\n",
       "  (layer3): Sequential(\n",
       "    (0): BasicBlock(\n",
       "      (conv1): Conv2d(128, 256, kernel_size=(3, 3), stride=(2, 2), padding=(1, 1), bias=False)\n",
       "      (bn1): BatchNorm2d(256, eps=1e-05, momentum=0.1, affine=True, track_running_stats=True)\n",
       "      (relu): ReLU(inplace=True)\n",
       "      (conv2): Conv2d(256, 256, kernel_size=(3, 3), stride=(1, 1), padding=(1, 1), bias=False)\n",
       "      (bn2): BatchNorm2d(256, eps=1e-05, momentum=0.1, affine=True, track_running_stats=True)\n",
       "      (downsample): Sequential(\n",
       "        (0): Conv2d(128, 256, kernel_size=(1, 1), stride=(2, 2), bias=False)\n",
       "        (1): BatchNorm2d(256, eps=1e-05, momentum=0.1, affine=True, track_running_stats=True)\n",
       "      )\n",
       "    )\n",
       "    (1): BasicBlock(\n",
       "      (conv1): Conv2d(256, 256, kernel_size=(3, 3), stride=(1, 1), padding=(1, 1), bias=False)\n",
       "      (bn1): BatchNorm2d(256, eps=1e-05, momentum=0.1, affine=True, track_running_stats=True)\n",
       "      (relu): ReLU(inplace=True)\n",
       "      (conv2): Conv2d(256, 256, kernel_size=(3, 3), stride=(1, 1), padding=(1, 1), bias=False)\n",
       "      (bn2): BatchNorm2d(256, eps=1e-05, momentum=0.1, affine=True, track_running_stats=True)\n",
       "    )\n",
       "  )\n",
       "  (layer4): Sequential(\n",
       "    (0): BasicBlock(\n",
       "      (conv1): Conv2d(256, 512, kernel_size=(3, 3), stride=(2, 2), padding=(1, 1), bias=False)\n",
       "      (bn1): BatchNorm2d(512, eps=1e-05, momentum=0.1, affine=True, track_running_stats=True)\n",
       "      (relu): ReLU(inplace=True)\n",
       "      (conv2): Conv2d(512, 512, kernel_size=(3, 3), stride=(1, 1), padding=(1, 1), bias=False)\n",
       "      (bn2): BatchNorm2d(512, eps=1e-05, momentum=0.1, affine=True, track_running_stats=True)\n",
       "      (downsample): Sequential(\n",
       "        (0): Conv2d(256, 512, kernel_size=(1, 1), stride=(2, 2), bias=False)\n",
       "        (1): BatchNorm2d(512, eps=1e-05, momentum=0.1, affine=True, track_running_stats=True)\n",
       "      )\n",
       "    )\n",
       "    (1): BasicBlock(\n",
       "      (conv1): Conv2d(512, 512, kernel_size=(3, 3), stride=(1, 1), padding=(1, 1), bias=False)\n",
       "      (bn1): BatchNorm2d(512, eps=1e-05, momentum=0.1, affine=True, track_running_stats=True)\n",
       "      (relu): ReLU(inplace=True)\n",
       "      (conv2): Conv2d(512, 512, kernel_size=(3, 3), stride=(1, 1), padding=(1, 1), bias=False)\n",
       "      (bn2): BatchNorm2d(512, eps=1e-05, momentum=0.1, affine=True, track_running_stats=True)\n",
       "    )\n",
       "  )\n",
       "  (avgpool): AdaptiveAvgPool2d(output_size=(1, 1))\n",
       "  (fc): Linear(in_features=512, out_features=1000, bias=True)\n",
       ")"
      ]
     },
     "execution_count": 94,
     "metadata": {},
     "output_type": "execute_result"
    }
   ],
   "source": [
    "outputs = []  # list of embeddings\n",
    "\n",
    "model.eval() # Inference mode"
   ]
  },
  {
   "cell_type": "code",
   "execution_count": 95,
   "metadata": {},
   "outputs": [
    {
     "name": "stdout",
     "output_type": "stream",
     "text": [
      "tensor([[ 0.4690, -0.6061, -4.4715,  ..., -2.7464,  0.7810,  0.6346],\n",
      "        [ 0.9809, -1.9817, -4.0056,  ..., -2.2696,  0.4793,  0.9694],\n",
      "        [-0.3154, -1.1334, -2.7672,  ..., -2.3327, -0.5399,  2.2669],\n",
      "        ...,\n",
      "        [ 2.8202, -2.1394,  0.2698,  ..., -3.0552, -0.5379,  0.6062],\n",
      "        [ 2.1923, -1.9860, -1.7486,  ..., -2.2355,  0.5034,  0.5336],\n",
      "        [ 2.4138, -1.4972, -0.0658,  ..., -1.9472,  0.8682,  1.0241]],\n",
      "       grad_fn=<AddmmBackward0>)\n",
      "tensor([[ 2.4717e+00, -1.8431e+00, -5.7360e-01, -1.9365e+00, -2.0677e-01,\n",
      "         -1.2043e+00, -2.2326e+00, -3.2379e+00, -4.7691e+00, -9.0228e-01,\n",
      "         -1.2439e+00, -3.0420e+00, -3.8597e+00, -3.6073e+00, -3.5253e+00,\n",
      "         -2.0469e+00, -3.0325e+00, -3.2049e+00, -3.5834e+00, -1.7455e+00,\n",
      "         -2.6297e+00, -8.4262e-01, -2.1725e+00, -3.2823e+00, -3.2652e+00,\n",
      "         -2.4350e+00, -2.1026e+00, -1.8969e+00, -1.0589e+00, -3.3775e+00,\n",
      "         -2.9633e+00, -2.2576e+00, -1.2397e+00,  1.0128e+00,  2.1729e+00,\n",
      "         -1.0429e+00, -4.1382e-01, -3.2831e+00,  3.1608e-01, -1.8449e+00,\n",
      "         -3.7494e+00, -1.1245e+00, -3.0248e+00, -5.8490e-01, -2.6120e+00,\n",
      "         -7.5751e-01, -2.4973e+00,  1.1600e-01,  1.5371e-02, -1.3106e+00,\n",
      "         -1.5265e+00,  1.3250e+00, -9.8977e-01, -1.6480e+00, -1.6550e+00,\n",
      "         -2.8182e+00, -1.7805e+00, -3.0565e+00, -2.7303e+00, -9.6479e-02,\n",
      "         -9.7740e-01, -1.1538e+00,  1.7920e+00,  5.7837e-01,  3.5616e-01,\n",
      "          1.0098e+00,  1.1366e+00, -1.2725e+00,  1.9012e+00, -2.2307e+00,\n",
      "         -4.2194e+00, -1.4068e+00, -2.0443e+00, -5.5513e-01, -4.9362e+00,\n",
      "         -3.6485e+00, -2.4724e+00, -5.2691e+00, -1.8161e+00, -3.2918e+00,\n",
      "         -9.1772e-02, -2.6736e+00, -3.9572e+00, -4.1666e-01, -4.1250e+00,\n",
      "         -3.2736e+00, -3.2996e+00, -1.8995e+00, -1.8094e+00, -4.1826e+00,\n",
      "         -3.0801e+00, -2.6734e+00, -3.4680e+00, -3.5624e+00, -3.1713e+00,\n",
      "         -6.7806e-01, -4.5396e+00, -4.4259e+00,  1.6579e-01, -2.6449e+00,\n",
      "         -4.9263e+00,  1.4992e+00,  3.2746e-01, -1.1241e+00, -1.1087e+00,\n",
      "         -3.2793e-01,  1.0696e+00, -2.4194e+00, -2.5131e+00, -2.5936e+00,\n",
      "         -2.1464e+00,  1.0991e-02, -1.1886e+00, -3.2070e+00, -4.2161e+00,\n",
      "         -2.7232e+00, -1.8909e+00, -2.3674e-01,  1.4214e-01, -1.0969e+00,\n",
      "          3.6474e-02,  6.4773e-01,  1.1878e+00,  3.2616e-01, -5.1576e-01,\n",
      "         -4.1119e+00, -1.6602e+00, -1.6425e+00,  1.1568e+00, -2.2860e+00,\n",
      "         -1.8881e+00, -1.1316e+00, -2.2183e+00, -2.3742e+00, -1.9423e+00,\n",
      "         -6.1090e-01, -2.8957e+00, -1.6397e+00, -7.7343e-01, -4.0023e+00,\n",
      "         -2.4089e+00, -6.7854e-01,  8.3256e-02, -1.2022e+00, -1.7163e+00,\n",
      "         -9.2769e-01, -2.8364e-01,  1.1706e+00, -7.9646e-01,  2.1830e-01,\n",
      "          5.7474e-01, -4.1505e-02,  1.3388e+00,  7.9086e-01,  1.1695e+00,\n",
      "          1.1017e-01, -1.0277e+00, -7.0426e-03,  8.9107e-01,  1.3793e+00,\n",
      "          2.6546e+00, -9.1005e-01, -1.0906e+00,  8.0488e-01,  1.4497e+00,\n",
      "          8.5008e-01,  9.2272e-01,  1.1738e+00,  1.2122e+00,  2.6963e+00,\n",
      "          2.5330e+00,  1.1145e+00,  9.5236e-01,  2.1169e+00,  4.6713e-01,\n",
      "          2.3598e+00,  2.4356e+00,  2.2237e+00,  4.6151e-01,  5.8783e-01,\n",
      "          4.4111e-01,  2.2888e+00,  1.8369e+00,  3.9562e+00,  7.4018e-01,\n",
      "          1.1260e+00,  1.3606e+00,  8.3815e-01,  2.2498e+00,  1.3879e+00,\n",
      "          2.9169e+00, -4.6059e-01,  2.4980e+00,  6.7235e-02,  3.3360e+00,\n",
      "          5.8390e-02, -1.2410e+00,  1.3021e+00,  2.1062e+00,  1.3035e+00,\n",
      "          1.3649e+00, -1.4812e+00,  2.1137e+00,  5.4671e-01,  7.3507e-01,\n",
      "         -1.2659e+00,  2.8879e-01, -5.0019e-01, -2.2557e-01,  9.7985e-02,\n",
      "          1.1705e+00,  7.7256e-01, -9.5869e-01, -1.8513e+00, -1.0719e+00,\n",
      "         -2.3173e-01,  1.9256e+00, -7.0239e-01, -9.7609e-01, -2.2946e+00,\n",
      "          1.3446e+00,  1.8923e+00,  1.3749e+00, -8.2079e-01,  1.5385e-01,\n",
      "          1.0593e+00,  2.1626e+00,  7.8049e-01,  3.9260e+00,  1.7403e+00,\n",
      "         -1.1045e+00, -1.0163e+00,  2.0145e-01,  4.2467e+00,  2.1695e+00,\n",
      "          1.8833e+00,  1.2276e+00, -9.1730e-01,  2.3528e+00, -6.4058e-01,\n",
      "          5.2454e-01,  7.1920e-01, -3.3424e-01,  1.6903e+00,  6.3748e-01,\n",
      "         -3.7736e-01,  2.3106e+00,  1.7260e+00,  5.3998e-01,  1.1244e+00,\n",
      "          1.1029e+00,  4.3239e-01,  2.1108e+00,  4.1119e-01,  1.1537e+00,\n",
      "          2.0723e+00,  2.0450e+00,  7.3351e-01, -1.3451e-01, -5.8016e-01,\n",
      "          2.6097e-01,  1.6024e+00,  2.4562e+00, -1.3892e+00,  8.1682e-01,\n",
      "         -1.5217e-01, -1.0083e-01,  9.0471e-01,  1.4458e+00,  1.0252e+00,\n",
      "          7.3491e-01, -2.1027e-01,  1.3927e+00,  2.3312e+00,  8.7114e-01,\n",
      "          6.6444e-01,  3.2938e-01, -2.5628e-01,  3.4176e-01, -6.8051e-01,\n",
      "          4.9810e-01,  1.9336e-01,  5.9594e-01,  7.4608e-01, -8.2725e-01,\n",
      "         -8.9854e-01,  7.9199e-01, -1.0989e+00,  7.6173e-01, -1.3062e+00,\n",
      "         -1.0454e+00,  7.2340e-01,  6.4983e-01,  5.7323e-01,  2.8365e-01,\n",
      "         -1.4316e+00,  1.2990e+00,  3.3322e-01, -1.1578e+00,  1.9112e+00,\n",
      "         -2.8863e+00, -3.4138e+00, -1.9080e+00, -2.7727e+00, -4.3564e+00,\n",
      "         -4.0788e+00, -2.7025e+00, -3.5810e+00, -5.1728e+00, -4.3180e+00,\n",
      "         -3.6902e-01, -4.5196e+00, -2.8744e+00, -2.7886e+00, -2.9969e+00,\n",
      "         -4.1555e+00, -4.6543e+00, -5.1234e+00, -4.4309e+00, -4.1565e+00,\n",
      "         -4.9849e+00, -4.3680e+00, -2.9898e+00, -2.0763e+00, -2.4761e+00,\n",
      "         -3.8241e+00, -2.6333e+00, -4.1034e-01, -7.8112e-01, -9.8323e-01,\n",
      "          6.9006e-01, -6.6931e-01,  7.4770e-01, -3.2571e+00,  2.8976e-01,\n",
      "          3.7790e-01, -2.3411e+00, -6.0995e-01, -1.1366e+00,  3.5695e+00,\n",
      "          5.3119e-01,  4.6322e-01, -7.8823e-02,  1.1409e+00, -2.8462e+00,\n",
      "          1.7438e+00, -2.7522e-01, -2.2142e-01, -2.5417e+00,  1.9773e-01,\n",
      "          1.4808e-01,  2.2905e+00,  1.1819e+00,  1.4106e+00,  2.9714e+00,\n",
      "         -4.2097e-01,  3.7443e-01, -1.3943e+00,  1.5257e+00, -2.8996e-01,\n",
      "         -2.1474e+00,  6.6720e-01,  4.3391e-01, -1.5685e+00,  2.1269e+00,\n",
      "         -1.4190e+00,  2.2659e-01,  7.9654e-01,  1.7429e-01, -1.4664e+00,\n",
      "         -1.2957e-01,  2.0912e+00, -7.2897e-01,  8.7378e-01,  7.7755e-01,\n",
      "         -4.1011e-01,  6.9443e-01, -3.1737e-01, -1.1558e+00, -3.2086e-01,\n",
      "          1.5539e-01,  1.0516e+00,  4.6661e-01,  6.2169e-02, -2.6985e-01,\n",
      "          1.5150e+00, -2.6021e-01, -2.2641e+00, -9.5941e-01,  3.2744e+00,\n",
      "          1.1437e+00,  2.3327e+00,  3.2231e-01, -3.4886e+00,  2.1590e+00,\n",
      "          2.7103e+00, -3.6908e+00, -3.3114e-01, -1.9417e+00,  3.3185e+00,\n",
      "          7.1796e-01,  3.8875e-01,  2.1185e+00, -4.1676e+00, -1.6535e+00,\n",
      "         -1.9059e+00, -9.1329e-01, -1.7736e+00, -7.4515e-01,  8.7393e-01,\n",
      "         -2.2409e+00,  6.2928e+00, -7.0240e-01,  1.9469e+00,  3.0804e+00,\n",
      "         -5.0230e-01,  3.8542e+00, -5.0211e-01, -7.2267e-02,  2.7358e+00,\n",
      "         -1.1471e+00, -4.0029e-01,  5.2088e+00,  7.8942e-01, -1.8178e+00,\n",
      "         -1.2504e+00, -1.0148e+00,  1.0686e+00,  2.5621e+00,  3.9655e-01,\n",
      "          3.1925e+00,  1.2296e+00,  3.3042e+00,  4.1406e+00,  1.4851e+00,\n",
      "          1.7926e-02, -9.4758e-01, -1.3270e+00, -5.8517e-01,  5.2272e+00,\n",
      "         -9.8019e-01, -4.3562e-01,  1.6031e+00,  2.8901e+00,  3.2425e+00,\n",
      "          2.6600e+00,  2.1186e+00,  4.8660e-01, -1.9016e+00, -6.1226e-01,\n",
      "          2.5890e+00,  2.7900e+00, -8.7467e-01, -7.8686e-02, -1.4359e+00,\n",
      "         -9.4994e-01,  7.1286e-01,  1.5547e+00, -1.6692e+00,  4.6989e+00,\n",
      "         -1.8418e+00,  3.8132e+00,  2.0005e+00,  1.1692e+00,  2.2874e+00,\n",
      "          8.0026e+00, -3.9628e+00, -3.4710e+00, -2.1879e+00,  6.9355e-01,\n",
      "          7.0724e-01, -6.9389e-01,  1.2054e+00,  1.9866e+00,  6.3257e+00,\n",
      "         -3.6687e+00, -3.5395e+00,  2.2445e+00, -3.8649e-01, -2.7495e-01,\n",
      "          1.1606e-01,  8.1674e-01,  1.8915e+00, -2.3701e+00,  8.1256e-01,\n",
      "         -1.1216e+00,  2.2950e+00,  1.6631e+00,  1.1207e+00, -2.3491e+00,\n",
      "          4.5218e+00,  4.0727e+00, -2.1411e+00,  7.1654e-01,  2.3442e+00,\n",
      "         -2.7094e+00,  1.4608e-01, -2.6430e+00, -2.6032e+00,  2.8227e+00,\n",
      "          1.9876e+00,  8.1179e-01,  4.2651e+00,  1.4265e+00, -1.8612e+00,\n",
      "         -1.5153e+00, -2.9348e+00,  1.1581e+00, -1.5612e+00, -2.2028e+00,\n",
      "         -1.4844e+00, -4.6167e-01,  8.5519e-01,  1.1389e+00,  4.8404e+00,\n",
      "          2.0285e+00,  1.8619e+00, -2.5690e+00,  1.3790e+00,  2.6093e+00,\n",
      "         -6.4289e-01,  1.7843e+00,  4.6535e+00,  6.6074e+00,  2.8025e+00,\n",
      "         -2.5176e+00, -2.8941e+00, -3.7536e-01, -1.1358e+00,  3.8636e+00,\n",
      "          4.9113e-01,  1.1669e+00, -2.1727e-01,  1.5511e+00,  5.1888e-01,\n",
      "         -2.8365e+00, -2.8744e+00,  1.2490e+00, -2.2240e+00,  1.2103e+00,\n",
      "         -8.3906e-01,  3.0809e+00,  3.6278e+00,  6.3420e+00, -2.0868e-01,\n",
      "         -2.2756e+00,  2.1527e+00, -4.7807e+00,  6.0212e-01, -4.7622e-01,\n",
      "          6.5150e-01,  3.8627e+00,  9.8316e-01, -6.4131e-01, -2.1546e+00,\n",
      "         -2.0463e+00,  2.6617e+00,  1.7905e-01,  1.7363e+00,  5.0056e+00,\n",
      "          1.1102e+00, -8.1864e-01, -1.9830e+00, -1.9656e+00, -3.9600e-01,\n",
      "         -3.7104e+00,  2.0579e+00,  1.3497e+00, -4.1551e-02, -2.5688e+00,\n",
      "          2.8093e+00,  6.2128e-01, -9.6199e-01,  1.6761e+00,  2.2477e+00,\n",
      "         -2.5128e-02, -1.7061e-01,  3.8788e+00,  3.6345e+00,  1.1756e-01,\n",
      "         -2.4394e+00, -3.3310e+00, -2.4855e+00,  1.8467e+00,  1.5800e+00,\n",
      "          2.5609e+00, -1.4908e+00,  2.2880e+00,  2.7741e+00,  3.0531e+00,\n",
      "          3.6120e+00,  7.1494e-01, -1.5996e+00,  3.3256e-01, -6.5965e-01,\n",
      "         -1.8087e+00,  3.3427e+00,  1.5979e-02,  4.7140e-01,  4.8646e-01,\n",
      "          5.0830e-01,  4.8295e+00,  2.7161e+00, -1.1750e+00,  9.2837e-01,\n",
      "         -8.0080e-01,  3.1081e+00,  1.2062e+00,  4.6062e+00, -1.4162e+00,\n",
      "          1.3161e+01, -1.1288e+00,  3.2458e+00, -2.7405e-04,  7.3656e-01,\n",
      "          6.7776e+00, -9.6865e-01,  1.0207e+00, -1.6960e+00, -1.9546e+00,\n",
      "          2.0341e+00,  2.1169e+00, -3.0785e+00,  2.1688e+00, -2.1334e+00,\n",
      "          4.4823e-01, -1.7303e+00, -1.5428e+00, -3.2175e+00,  1.6127e-01,\n",
      "          2.8220e+00,  1.7355e+00, -2.8069e-04, -2.2982e-01, -8.9929e-01,\n",
      "         -9.3974e-01,  4.6828e+00, -1.2260e+00,  6.5884e+00,  8.2257e+00,\n",
      "         -2.2080e+00,  3.5301e+00,  2.8293e+00,  8.4540e-01,  1.0583e+00,\n",
      "         -2.0752e+00,  9.1157e-01, -1.4100e+00, -1.2075e+00, -4.0964e-01,\n",
      "          7.8474e-01,  1.6402e+00, -6.1833e-01,  1.8788e+00, -1.1535e+00,\n",
      "          4.9982e+00, -8.2332e-01, -2.5963e+00,  1.0180e+00, -1.1659e+00,\n",
      "          1.6849e+00, -1.6701e+00,  8.8498e-01, -3.5247e-01, -1.3327e+00,\n",
      "          3.4975e-01, -5.3675e-01, -8.1037e-01, -1.6510e+00, -4.6693e-01,\n",
      "         -5.3044e-01,  1.4291e+00,  3.0787e+00, -6.1569e-01,  2.5224e+00,\n",
      "          3.4840e+00,  2.9321e+00,  2.5485e-01,  5.1723e+00, -2.5676e+00,\n",
      "          1.3113e+00,  1.0819e+00, -2.1256e+00,  4.4366e+00,  2.4144e+00,\n",
      "         -4.0440e+00,  5.7314e-01, -1.6908e+00, -1.6163e+00,  5.3685e+00,\n",
      "          3.2990e-01,  1.0847e+00,  2.8356e+00,  4.2969e+00, -1.3790e+00,\n",
      "         -2.8863e+00,  1.9243e+00,  2.7420e+00, -1.9024e+00,  1.3486e+00,\n",
      "          2.2425e+00, -1.4890e+00,  5.8836e+00, -5.4890e-01, -3.2343e+00,\n",
      "         -1.2971e+00, -1.7615e+00, -2.6026e+00,  1.4733e+00, -1.3590e+00,\n",
      "         -7.5273e-01,  1.2238e+00,  1.0106e+00, -5.1663e-01,  1.8789e+00,\n",
      "          3.2096e+00, -8.9321e-01, -3.1549e+00, -7.2246e-01,  3.3793e-01,\n",
      "         -7.2177e-01, -9.6860e-01,  4.0439e+00, -1.5188e+00, -1.7580e+00,\n",
      "         -8.7525e-01,  9.1419e-01, -8.7904e-01,  4.9231e+00,  1.8543e+00,\n",
      "         -2.2158e+00,  4.5538e+00, -7.0039e-01,  1.8943e+00, -3.7754e+00,\n",
      "          3.4117e+00,  2.0421e+00, -1.6333e-01, -5.3113e-01,  2.0180e+00,\n",
      "          4.2510e+00,  2.6013e+00, -2.1878e-01, -9.2777e-01, -1.4134e+00,\n",
      "         -5.7818e-01,  1.4259e+00,  4.2693e+00,  4.7792e-01,  8.1020e-01,\n",
      "         -4.9952e-01, -8.5907e-01,  2.2714e+00,  9.8929e-01, -1.1663e+00,\n",
      "         -1.2322e+00, -5.9567e-01, -2.2174e-01,  2.7045e+00, -1.1045e+00,\n",
      "         -4.5705e-02, -5.1835e-02, -1.8699e+00,  2.1916e+00,  4.4523e-01,\n",
      "          3.1645e+00,  2.0700e+00, -3.2747e-01,  2.2205e+00, -1.5323e+00,\n",
      "          2.9221e+00, -4.4541e-01,  1.2459e+00, -1.5634e+00, -1.0580e-01,\n",
      "          5.1746e+00,  7.3345e-01, -2.8213e-01, -7.4726e-01, -1.9881e+00,\n",
      "         -2.5195e+00, -1.6043e-01,  2.0411e+00, -1.3967e+00,  1.1062e+00,\n",
      "         -1.7435e+00, -1.1675e+00,  5.6339e-01, -1.5685e+00,  1.6861e-01,\n",
      "          2.9409e+00,  4.4715e-02,  3.7748e+00,  3.5495e+00, -2.3802e+00,\n",
      "          3.9427e+00,  3.1680e+00,  9.6814e-01,  2.3874e-01, -9.7969e-01,\n",
      "         -1.5306e+00,  2.6385e+00,  1.8693e-02, -1.8999e+00,  1.1160e+00,\n",
      "          3.7976e+00,  6.0369e-02,  3.9299e-01,  3.0402e+00, -2.5202e+00,\n",
      "          7.9219e-01,  1.1164e+00,  1.3769e+00,  3.5712e+00,  1.3330e+00,\n",
      "         -3.7135e+00, -1.9458e+00,  4.2806e-01,  1.9804e+00,  1.9140e+00,\n",
      "         -1.7484e+00, -1.8524e+00,  4.4730e+00,  1.3980e+00,  4.0513e+00,\n",
      "         -2.1096e+00,  1.4076e+00, -6.5267e-02, -3.1539e-02, -4.1089e+00,\n",
      "          2.1695e+00,  1.8336e+00, -1.5972e+00, -2.8098e+00,  1.5368e+00,\n",
      "         -2.9011e+00,  4.1623e+00,  2.4257e+00,  3.7369e+00, -2.5703e+00,\n",
      "          2.6338e+00,  1.0532e+01,  6.1233e+00,  4.0309e-01,  7.8235e-01,\n",
      "         -1.1045e+00,  5.5124e-01, -2.2761e+00, -2.2841e-01, -3.0743e+00,\n",
      "         -1.5512e+00,  1.8034e+00,  1.9657e+00,  1.3299e-02,  3.6001e+00,\n",
      "         -1.1649e+00,  5.1027e-01,  4.1857e+00, -3.0472e+00,  2.3379e-01,\n",
      "          8.7994e-01, -6.6578e-01,  3.4208e+00, -1.4211e+00, -2.1312e+00,\n",
      "         -1.1418e+00, -2.2778e-01, -2.0044e-01,  3.0957e+00,  2.4347e+00,\n",
      "          2.4551e+00, -3.0624e-01,  2.0561e+00, -6.2894e-01, -3.9825e+00,\n",
      "          2.1785e+00, -3.5598e-01, -1.9918e-01, -7.3690e-01, -3.9146e-01,\n",
      "          4.2051e+00,  1.5059e-01,  2.8967e+00, -1.5288e-01, -1.1840e+00,\n",
      "          5.3049e+00, -1.1052e+00,  6.0652e-01, -3.6170e+00,  1.4066e+00,\n",
      "          2.4325e+00,  9.9056e-01,  1.4712e+00, -9.8504e-01,  7.7091e-01,\n",
      "         -2.8315e+00, -1.7368e+00, -5.3842e-01,  1.1002e+00,  2.5083e+00,\n",
      "         -8.1045e-01,  3.3906e+00,  2.6542e+00,  3.5588e+00,  3.8824e-01,\n",
      "         -5.7061e-01,  2.4141e+00, -1.1300e+00, -3.9307e+00, -1.3068e-01,\n",
      "         -1.0881e+00,  5.4451e+00,  7.1949e-01, -1.7861e+00,  6.0923e-01,\n",
      "          3.8708e-01,  1.7527e+00,  1.5445e+00, -8.2807e-01,  4.1525e-01,\n",
      "         -1.1696e+00,  2.6350e+00, -2.8314e+00, -5.2461e-01, -2.9909e+00,\n",
      "         -2.3169e+00, -9.9758e-01,  1.0575e-01, -4.5130e+00,  9.0184e-01,\n",
      "         -9.1433e-01,  6.0260e-01, -6.3603e-01, -4.0864e+00, -7.4397e-01,\n",
      "         -2.2610e+00,  6.8778e-01, -1.0656e+00,  7.4862e-02, -2.4626e-01,\n",
      "          1.3950e+00, -1.6129e+00,  1.6283e-01, -1.4059e+00, -2.5450e+00,\n",
      "          2.8344e-01, -1.6511e+00, -3.4515e+00, -2.9292e-01,  3.1938e-01,\n",
      "         -1.7603e+00, -1.8873e+00, -1.3689e+00, -2.2670e+00, -2.5370e+00,\n",
      "         -1.0935e+00, -5.0512e-01, -1.6485e+00,  2.5276e-01, -1.1045e+00,\n",
      "         -1.0249e+00, -1.3987e+00, -5.7481e-01, -3.3331e+00, -1.8528e+00,\n",
      "         -2.1412e+00, -4.2395e-01, -3.0795e+00, -2.0261e+00,  9.7846e-01,\n",
      "          1.2185e+00, -1.9618e+00, -6.8716e-01, -1.5094e+00,  3.5359e+00,\n",
      "          1.4242e+00, -1.5955e+00,  2.3778e+00,  1.2300e+00, -8.0444e-01,\n",
      "          2.6663e+00,  1.9110e+00, -1.1099e+00, -1.2400e+00, -1.2097e-01,\n",
      "         -2.1325e+00, -1.3853e+00,  2.3550e-02, -4.1085e+00, -2.4747e+00,\n",
      "         -2.0420e+00, -2.6367e+00, -3.1682e+00, -2.8834e+00, -1.8118e+00,\n",
      "         -1.9350e+00, -3.5243e-01, -2.6846e+00,  6.3861e-01,  9.2640e-01]],\n"
     ]
    },
    {
     "name": "stdout",
     "output_type": "stream",
     "text": [
      "       grad_fn=<AddmmBackward0>)\n"
     ]
    }
   ],
   "source": [
    "# Generate image's embeddings for all images in dloader and saves \n",
    "# them in the list outputs\n",
    "for X, y in dloader:\n",
    "    _ = model(X)\n",
    "    print(_)"
   ]
  }
 ],
 "metadata": {
  "kernelspec": {
   "display_name": "Python 3",
   "language": "python",
   "name": "python3"
  },
  "language_info": {
   "codemirror_mode": {
    "name": "ipython",
    "version": 3
   },
   "file_extension": ".py",
   "mimetype": "text/x-python",
   "name": "python",
   "nbconvert_exporter": "python",
   "pygments_lexer": "ipython3",
   "version": "3.7.0"
  }
 },
 "nbformat": 4,
 "nbformat_minor": 2
}
